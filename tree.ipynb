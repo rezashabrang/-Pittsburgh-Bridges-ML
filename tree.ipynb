{
 "cells": [
  {
   "cell_type": "code",
   "execution_count": 81,
   "metadata": {
    "collapsed": true,
    "pycharm": {
     "is_executing": false
    }
   },
   "outputs": [],
   "source": [
    "import matplotlib.pyplot as plt\n",
    "import numpy as np\n",
    "from sklearn import preprocessing\n",
    "import pandas as pd\n",
    "from sklearn.model_selection import cross_val_score\n",
    "from sklearn.tree import DecisionTreeClassifier\n",
    "import pydotplus\n",
    "from sklearn import tree\n",
    "from sklearn.preprocessing import OneHotEncoder"
   ]
  },
  {
   "cell_type": "code",
   "execution_count": 82,
   "outputs": [],
   "source": [
    "df = pd.read_csv('data/bridges.data.version2',names=['IDENTIF','RIVER','LOCATION','ERECTED','PURPOSE','LENGTH','LANES','CLEAR-G','T-OR-D','MATERIAL','SPAN','REL-L','TYPE'])\n",
    "df = df.replace('?',np.NaN)\n",
    "df = df.convert_dtypes()\n",
    "with open('results.txt','r+') as result_file:\n",
    "    result_file.truncate(0)"
   ],
   "metadata": {
    "collapsed": false,
    "pycharm": {
     "name": "#%%\n",
     "is_executing": false
    }
   }
  },
  {
   "cell_type": "code",
   "execution_count": 83,
   "outputs": [],
   "source": [
    "# Encoding\n",
    "def encode(df):\n",
    "    ignore_columns = ['index','IDENTIF','LOCATION','LANES','TYPE']\n",
    "    for column in df:\n",
    "        if column in ignore_columns:\n",
    "            continue\n",
    "        oe_style = OneHotEncoder()\n",
    "        oe_results = oe_style.fit_transform(df[[column]])\n",
    "        encoded_df = pd.DataFrame(oe_results.toarray(), columns=oe_style.categories_)\n",
    "        encoded_df = encoded_df.dropna()\n",
    "        df = df.join(encoded_df,rsuffix='_encoder')\n",
    "    return df"
   ],
   "metadata": {
    "collapsed": false,
    "pycharm": {
     "name": "#%%\n",
     "is_executing": false
    }
   }
  },
  {
   "cell_type": "code",
   "execution_count": 84,
   "outputs": [],
   "source": [
    "# model implementation\n",
    "def tree_classifier(dataframe, cleaning_method):\n",
    "    X= dataframe.drop(['TYPE','IDENTIF','index','RIVER','ERECTED','PURPOSE','LENGTH','CLEAR-G','T-OR-D','MATERIAL','SPAN','REL-L'],axis=1)\n",
    "    y = dataframe['TYPE']\n",
    "    model = DecisionTreeClassifier()\n",
    "    scores = cross_val_score(model,X,y,cv=10)\n",
    "    model.fit(X,y)\n",
    "    dot_data = tree.export_graphviz(model, out_file=None, \n",
    "                                feature_names=X.columns,class_names=df.TYPE.unique())\n",
    "    graph = pydotplus.graph_from_dot_data(dot_data)\n",
    "    graph.write_png(cleaning_method+\"-tree.png\")\n",
    "    with open('results.txt','a+') as result_file:\n",
    "        result_file.writelines('------------'+ cleaning_method+ '------------\\n')\n",
    "        result_file.writelines(\"Scores for each iteration:\\n\")\n",
    "        for score in scores:\n",
    "            result_file.writelines(str(score)+'\\n')\n",
    "        result_file.writelines(\"Mean Scores = \"+ str(scores.mean())+'\\n')\n",
    "    return scores\n",
    "        "
   ],
   "metadata": {
    "collapsed": false,
    "pycharm": {
     "name": "#%%\n",
     "is_executing": false
    }
   }
  },
  {
   "cell_type": "code",
   "execution_count": 85,
   "outputs": [
    {
     "name": "stderr",
     "text": [
      "c:\\users\\reza\\appdata\\local\\programs\\python\\python38\\lib\\site-packages\\sklearn\\model_selection\\_split.py:665: UserWarning: The least populated class in y has only 7 members, which is less than n_splits=10.\n  warnings.warn((\"The least populated class in y has only %d\"\n"
     ],
     "output_type": "stream"
    }
   ],
   "source": [
    "# Removing Nans Method\n",
    "df = df.dropna()\n",
    "df = df.reset_index()\n",
    "df = encode(df)\n",
    "score_drop = tree_classifier(df,'Dropping Na')"
   ],
   "metadata": {
    "collapsed": false,
    "pycharm": {
     "name": "#%%\n",
     "is_executing": false
    }
   }
  },
  {
   "cell_type": "code",
   "execution_count": 86,
   "outputs": [],
   "source": [
    "def impute_nan_most_frequent_category(DataFrame,ColName):\n",
    "    # .mode()[0] - gives first category name\n",
    "    most_frequent_category=DataFrame[ColName].mode()[0]\n",
    "    # replace nan values with most occured category\n",
    "    DataFrame = DataFrame[ColName].fillna(most_frequent_category,inplace=True)"
   ],
   "metadata": {
    "collapsed": false,
    "pycharm": {
     "name": "#%%\n",
     "is_executing": false
    }
   }
  },
  {
   "cell_type": "code",
   "execution_count": 87,
   "outputs": [],
   "source": [
    "df = pd.read_csv('data/bridges.data.version2',names=['IDENTIF','RIVER','LOCATION','ERECTED','PURPOSE','LENGTH','LANES','CLEAR-G','T-OR-D','MATERIAL','SPAN','REL-L','TYPE'])\n",
    "df = df.replace('?',np.NaN)\n",
    "df = df.convert_dtypes()"
   ],
   "metadata": {
    "collapsed": false,
    "pycharm": {
     "name": "#%%\n",
     "is_executing": false
    }
   }
  },
  {
   "cell_type": "code",
   "execution_count": 88,
   "outputs": [],
   "source": [
    "nan_values = df.isna()\n",
    "nan_columns = nan_values. any()\n",
    "columns_with_nan = df.columns[nan_columns].tolist()\n",
    "for Columns in ['LOCATION', 'LENGTH', 'LANES', 'CLEAR-G', 'T-OR-D', 'MATERIAL', 'SPAN', 'REL-L', 'TYPE']:\n",
    "    if Columns in ['index','IDENTIF']:\n",
    "        continue\n",
    "    impute_nan_most_frequent_category(df,Columns)"
   ],
   "metadata": {
    "collapsed": false,
    "pycharm": {
     "name": "#%%\n",
     "is_executing": false
    }
   }
  },
  {
   "cell_type": "code",
   "execution_count": 89,
   "outputs": [
    {
     "name": "stderr",
     "text": [
      "c:\\users\\reza\\appdata\\local\\programs\\python\\python38\\lib\\site-packages\\sklearn\\model_selection\\_split.py:665: UserWarning: The least populated class in y has only 1 members, which is less than n_splits=10.\n  warnings.warn((\"The least populated class in y has only %d\"\n"
     ],
     "output_type": "stream"
    }
   ],
   "source": [
    "df = df.reset_index()\n",
    "df = encode(df)\n",
    "score_mode_replace = tree_classifier(df,'Replacing with mode')"
   ],
   "metadata": {
    "collapsed": false,
    "pycharm": {
     "name": "#%%\n",
     "is_executing": false
    }
   }
  },
  {
   "cell_type": "code",
   "execution_count": 90,
   "outputs": [
    {
     "data": {
      "text/plain": "<Figure size 432x288 with 1 Axes>",
      "image/png": "[encoded data removed]"
     },
     "metadata": {
      "needs_background": "light"
     },
     "output_type": "display_data"
    }
   ],
   "source": [
    "k=[i for i in range(1,11)]\n",
    "fig = plt.figure()\n",
    "plt.plot(k,score_drop,label='Dropping NA')\n",
    "plt.plot(k,score_mode_replace,label='Replacing with mode')\n",
    "plt.legend()\n",
    "plt.savefig('errors.png')\n",
    "plt.show()\n",
    "\n"
   ],
   "metadata": {
    "collapsed": false,
    "pycharm": {
     "name": "#%%\n",
     "is_executing": false
    }
   }
  }
 ],
 "metadata": {
  "language_info": {
   "codemirror_mode": {
    "name": "ipython",
    "version": 2
   },
   "file_extension": ".py",
   "mimetype": "text/x-python",
   "name": "python",
   "nbconvert_exporter": "python",
   "pygments_lexer": "ipython2",
   "version": "2.7.6"
  },
  "kernelspec": {
   "name": "python3",
   "language": "python",
   "display_name": "Python 3"
  },
  "pycharm": {
   "stem_cell": {
    "cell_type": "raw",
    "source": [],
    "metadata": {
     "collapsed": false
    }
   }
  }
 },
 "nbformat": 4,
 "nbformat_minor": 0
}